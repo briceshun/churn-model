{
 "cells": [
  {
   "cell_type": "markdown",
   "metadata": {},
   "source": [
    "# Data Balancing"
   ]
  },
  {
   "cell_type": "markdown",
   "metadata": {},
   "source": [
    "## 1. Setup"
   ]
  },
  {
   "cell_type": "code",
   "execution_count": 1,
   "metadata": {},
   "outputs": [],
   "source": [
    "import pandas as pd\n",
    "import numpy as np\n",
    "import seaborn as sns\n",
    "import matplotlib.pyplot as plt\n",
    "import re\n",
    "from summarytools import dfSummary\n",
    "from imblearn.over_sampling import SMOTE\n",
    "from imblearn.combine import SMOTEENN\n",
    "from collections import Counter\n",
    "from sklearn.model_selection import train_test_split\n",
    "\n",
    "from env_setup import *\n",
    "from functions.t_test import *\n",
    "\n",
    "pd.set_option('display.max_columns', None)"
   ]
  },
  {
   "cell_type": "code",
   "execution_count": 2,
   "metadata": {},
   "outputs": [],
   "source": [
    "# Load data\n",
    "df_raw = pd.read_csv(fr\"{dataout}//{dataset}_FE.csv\")\n",
    "df_raw.head()\n",
    "df_ori = df_raw.copy()"
   ]
  },
  {
   "cell_type": "code",
   "execution_count": 3,
   "metadata": {},
   "outputs": [
    {
     "name": "stdout",
     "output_type": "stream",
     "text": [
      "Categorical columns: Gender, Location\n",
      "Numeric columns: Age, Income, Tenure, NumSupportCalls, NumComplaints, Purchase, Refund, Subscription Renewal, Support Fee, Upgrade, txn_mean, txn_count, Age_norm, Income_norm, Tenure_norm, NumSupportCalls_norm, NumComplaints_norm, Purchase_norm, Refund_norm, Subscription Renewal_norm, Support Fee_norm, Upgrade_norm, txn_mean_norm, txn_count_norm, Gender_Female, Gender_Male, Location_Rural, Location_Suburban, Location_Urban\n"
     ]
    }
   ],
   "source": [
    "# Split categorical and numeric\n",
    "l_cols_cat = [i for i in df_ori if df_ori[i].dtype==object]\n",
    "l_cols_num = [i for i in df_ori if df_ori[i].dtype!=object and i != 'Churned']\n",
    "\n",
    "print(f\"Categorical columns: {', '.join(l_cols_cat)}\")\n",
    "print(f\"Numeric columns: {', '.join(l_cols_num)}\")"
   ]
  },
  {
   "cell_type": "markdown",
   "metadata": {},
   "source": [
    "## 2. Train-Test Split"
   ]
  },
  {
   "cell_type": "code",
   "execution_count": 4,
   "metadata": {},
   "outputs": [],
   "source": [
    "# Remove categorical columns\n",
    "df_ori.drop(columns=l_cols_cat, inplace=True)"
   ]
  },
  {
   "cell_type": "code",
   "execution_count": 5,
   "metadata": {},
   "outputs": [],
   "source": [
    "# Splitting the data into train and test\n",
    "x = df_ori.drop(columns=['Churned'])\n",
    "y = df_ori['Churned']\n",
    "X_train,X_test,y_train,y_test=train_test_split(x, y, train_size=0.8, stratify = y, random_state=12345)"
   ]
  },
  {
   "cell_type": "markdown",
   "metadata": {},
   "source": [
    "## 3. Balancing"
   ]
  },
  {
   "cell_type": "markdown",
   "metadata": {},
   "source": [
    "### 2.1. Synthetic minority over-sampling technique (SMOTE)"
   ]
  },
  {
   "cell_type": "code",
   "execution_count": 7,
   "metadata": {},
   "outputs": [
    {
     "name": "stdout",
     "output_type": "stream",
     "text": [
      "Before Counter({0: 57538, 1: 22462})\n",
      "After Counter({0: 57538, 1: 57538})\n"
     ]
    }
   ],
   "source": [
    "counter = Counter(y_train)\n",
    "print('Before', counter)\n",
    "\n",
    "# oversampling the train dataset using SMOTE\n",
    "smt = SMOTE()\n",
    "X_train_sm, y_train_sm = smt.fit_resample(X_train, y_train)\n",
    "\n",
    "counter = Counter(y_train_sm)\n",
    "print('After', counter)"
   ]
  },
  {
   "cell_type": "markdown",
   "metadata": {},
   "source": [
    "### 2.2. SMOTE + ENN"
   ]
  },
  {
   "cell_type": "code",
   "execution_count": 8,
   "metadata": {},
   "outputs": [
    {
     "name": "stdout",
     "output_type": "stream",
     "text": [
      "Before Counter({0: 57538, 1: 22462})\n",
      "After Counter({1: 36938, 0: 17395})\n"
     ]
    }
   ],
   "source": [
    "counter = Counter(y_train)\n",
    "print('Before',counter)\n",
    "# oversampling the train dataset using SMOTE + ENN\n",
    "smenn = SMOTEENN()\n",
    "X_train_smenn, y_train_smenn = smenn.fit_resample(X_train, y_train)\n",
    "\n",
    "counter = Counter(y_train_smenn)\n",
    "print('After',counter)"
   ]
  },
  {
   "cell_type": "markdown",
   "metadata": {},
   "source": [
    "## 3. Export"
   ]
  },
  {
   "cell_type": "code",
   "execution_count": 9,
   "metadata": {},
   "outputs": [],
   "source": [
    "X_test['Churned'] = y_test\n",
    "X_test.to_csv(fr\"{dataout}//{dataset}_test.csv\", index=False)"
   ]
  },
  {
   "cell_type": "code",
   "execution_count": 10,
   "metadata": {},
   "outputs": [],
   "source": [
    "X_train['Churned'] = y_train\n",
    "X_train.to_csv(fr\"{dataout}//{dataset}_train.csv\", index=False)\n",
    "\n",
    "X_train_sm['Churned'] = y_train_sm\n",
    "X_train_sm.to_csv(fr\"{dataout}//{dataset}_SMOTE_train.csv\", index=False)\n",
    "\n",
    "X_train_smenn['Churned'] = y_train_smenn\n",
    "X_train_smenn.to_csv(fr\"{dataout}//{dataset}_SMOTEENN_train.csv\", index=False)"
   ]
  },
  {
   "cell_type": "code",
   "execution_count": 15,
   "metadata": {},
   "outputs": [
    {
     "data": {
      "text/plain": [
       "Churned\n",
       "0    28078\n",
       "1    28078\n",
       "Name: Churned, dtype: int64"
      ]
     },
     "execution_count": 15,
     "metadata": {},
     "output_type": "execute_result"
    }
   ],
   "source": [
    "df_ori_us = pd.concat([\n",
    "    df_ori[df_ori['Churned']==1],\n",
    "    df_ori[df_ori['Churned']==0].sample(len(df_ori[df_ori['Churned']==1]), random_state=12345)\n",
    "    ])\n",
    "df_ori_us.groupby('Churned')['Churned'].count()\n"
   ]
  },
  {
   "cell_type": "code",
   "execution_count": 16,
   "metadata": {},
   "outputs": [],
   "source": [
    "x = df_ori_us.drop(columns=['Churned'])\n",
    "y = df_ori_us['Churned']\n",
    "X_train,X_test,y_train,y_test=train_test_split(x, y, train_size=0.8, stratify = y, random_state=12345)"
   ]
  },
  {
   "cell_type": "code",
   "execution_count": 22,
   "metadata": {},
   "outputs": [],
   "source": [
    "X_test['Churned'] = y_test\n",
    "X_test.to_csv(fr\"{dataout}//{dataset}_us_test.csv\", index=False)\n",
    "\n",
    "X_train['Churned'] = y_train\n",
    "X_train.to_csv(fr\"{dataout}//{dataset}_us_train.csv\", index=False)"
   ]
  },
  {
   "cell_type": "code",
   "execution_count": null,
   "metadata": {},
   "outputs": [],
   "source": []
  }
 ],
 "metadata": {
  "kernelspec": {
   "display_name": "Python 3",
   "language": "python",
   "name": "python3"
  },
  "language_info": {
   "codemirror_mode": {
    "name": "ipython",
    "version": 3
   },
   "file_extension": ".py",
   "mimetype": "text/x-python",
   "name": "python",
   "nbconvert_exporter": "python",
   "pygments_lexer": "ipython3",
   "version": "3.12.5"
  }
 },
 "nbformat": 4,
 "nbformat_minor": 2
}
