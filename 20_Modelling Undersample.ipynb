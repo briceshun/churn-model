{
 "cells": [
  {
   "cell_type": "markdown",
   "metadata": {},
   "source": [
    "# Modelling"
   ]
  },
  {
   "cell_type": "markdown",
   "metadata": {},
   "source": [
    "## 1. Setup"
   ]
  },
  {
   "cell_type": "code",
   "execution_count": 1,
   "metadata": {},
   "outputs": [],
   "source": [
    "import pandas as pd\n",
    "import numpy as np\n",
    "import seaborn as sns\n",
    "import matplotlib.pyplot as plt\n",
    "from summarytools import dfSummary\n",
    "\n",
    "from env_setup import *\n",
    "\n",
    "pd.set_option('display.max_columns', None)"
   ]
  },
  {
   "cell_type": "code",
   "execution_count": 2,
   "metadata": {},
   "outputs": [],
   "source": [
    "# Load data\n",
    "X_test = pd.read_csv(fr\"{dataout}//{dataset}_us_test.csv\")\n",
    "y_test = X_test[['Churned']]\n",
    "X_test.drop(columns=['Churned'], inplace=True)\n",
    "\n",
    "X_train = pd.read_csv(fr\"{dataout}//{dataset}_us_train.csv\")\n",
    "y_train = X_train[['Churned']]\n",
    "X_train.drop(columns=['Churned'], inplace=True)"
   ]
  },
  {
   "cell_type": "code",
   "execution_count": 3,
   "metadata": {},
   "outputs": [
    {
     "data": {
      "text/plain": [
       "Index(['Age', 'Income', 'Tenure', 'NumSupportCalls', 'NumComplaints',\n",
       "       'Purchase', 'Refund', 'Subscription Renewal', 'Support Fee', 'Upgrade',\n",
       "       'txn_mean', 'txn_count', 'Age_norm', 'Income_norm', 'Tenure_norm',\n",
       "       'NumSupportCalls_norm', 'NumComplaints_norm', 'Purchase_norm',\n",
       "       'Refund_norm', 'Subscription Renewal_norm', 'Support Fee_norm',\n",
       "       'Upgrade_norm', 'txn_mean_norm', 'txn_count_norm', 'Gender_Female',\n",
       "       'Gender_Male', 'Location_Rural', 'Location_Suburban', 'Location_Urban'],\n",
       "      dtype='object')"
      ]
     },
     "execution_count": 3,
     "metadata": {},
     "output_type": "execute_result"
    }
   ],
   "source": [
    "X_train.columns"
   ]
  },
  {
   "cell_type": "code",
   "execution_count": 4,
   "metadata": {},
   "outputs": [],
   "source": [
    "# Original vs Binned columns\n",
    "l_cols_num = [\n",
    "    'Age', 'Income', 'Tenure', 'NumSupportCalls', 'NumComplaints',\n",
    "    'Purchase', 'Refund', 'Subscription Renewal', 'Support Fee', 'Upgrade',\n",
    "    'txn_mean', 'txn_count'\n",
    "    ]\n",
    "\n",
    "l_cols_cat = [\n",
    "    #'Gender_Female', \n",
    "    'Gender_Male', \n",
    "    'Location_Rural', 'Location_Suburban', \n",
    "    #'Location_Urban',\n",
    "    ]\n",
    "\n",
    "l_cols_norm = [\n",
    "    'Age_norm', 'Income_norm', 'Tenure_norm',\n",
    "    'NumSupportCalls_norm', 'NumComplaints_norm', 'Purchase_norm',\n",
    "    'Refund_norm', 'Subscription Renewal_norm', 'Support Fee_norm',\n",
    "    'Upgrade_norm', 'txn_mean_norm', 'txn_count_norm'\n",
    "    ]"
   ]
  },
  {
   "cell_type": "markdown",
   "metadata": {},
   "source": [
    "## 2. Baseline Models"
   ]
  },
  {
   "cell_type": "markdown",
   "metadata": {},
   "source": [
    "### 2.1. Logistic Regression"
   ]
  },
  {
   "cell_type": "code",
   "execution_count": 5,
   "metadata": {},
   "outputs": [],
   "source": [
    "import pandas as pd\n",
    "import statsmodels.api as sm \n",
    "from sklearn.metrics import classification_report, f1_score\n",
    "\n",
    "class logistic_regression:\n",
    "    def __init__(self, y_train, x_train, cols, name, y=y_test, x=X_test):\n",
    "        self.name = name\n",
    "        self.y_train = y_train\n",
    "        self.x_train = x_train\n",
    "        self.y = y_test\n",
    "        self.x = X_test\n",
    "        self.cols = cols\n",
    "        self.model = sm.Logit(self.y_train, self.x_train[cols]).fit()\n",
    "\n",
    "    def summary(self):\n",
    "        print(self.model.summary())\n",
    "\n",
    "    def predict(self, confusion=False):\n",
    "        yhat = self.model.predict(self.x[self.cols]) \n",
    "        prediction = list(map(round, yhat))\n",
    "        self.cm = classification_report(self.y, prediction)\n",
    "        f1 = f1_score(self.y, prediction)\n",
    "        self.f1 = f1\n",
    "        print(f\"{self.name}: F1 = {f1}\")    \n",
    "        if confusion:\n",
    "            print (\"Confusion Matrix : \\n\", self.cm)\n",
    "\n",
    "    def feature_selection(self):\n",
    "        # Remove columns with no statistical differences\n",
    "        try:\n",
    "            self.cols.remove('Age')\n",
    "            self.cols.remove('TransactionDate')\n",
    "            self.cols.remove('NumComplaints')\n",
    "        except:\n",
    "            pass\n",
    "        self.model = sm.Logit(self.y_train, self.x_train[self.cols]).fit()\n",
    "        self.predict()\n",
    "        f1 = self.f1\n",
    "\n",
    "        for i in self.cols:\n",
    "            self.cols.remove(i)\n",
    "            self.model = sm.Logit(self.y_train, self.x_train[self.cols]).fit()\n",
    "            print(self.cols)\n",
    "            self.predict()\n",
    "            new_f1 = self.f1\n",
    "\n",
    "            if new_f1 < f1:\n",
    "                self.cols.append(i)"
   ]
  },
  {
   "cell_type": "code",
   "execution_count": 6,
   "metadata": {},
   "outputs": [
    {
     "name": "stdout",
     "output_type": "stream",
     "text": [
      "Optimization terminated successfully.\n",
      "         Current function value: 0.643021\n",
      "         Iterations 5\n",
      "ori_baseLogit_num: F1 = 0.6291994281629736\n",
      "Optimization terminated successfully.\n",
      "         Current function value: 0.642764\n",
      "         Iterations 5\n",
      "ori_baseLogit_norm: F1 = 0.6292779071850922\n"
     ]
    }
   ],
   "source": [
    "ori_baseLogit_num = logistic_regression(y_train, X_train, l_cols_num+l_cols_cat, 'ori_baseLogit_num')\n",
    "ori_baseLogit_num.predict()\n",
    "ori_baseLogit_norm = logistic_regression(y_train, X_train, l_cols_norm+l_cols_cat, 'ori_baseLogit_norm')\n",
    "ori_baseLogit_norm.predict()"
   ]
  },
  {
   "cell_type": "markdown",
   "metadata": {},
   "source": [
    "### 2.2. Decision Trees"
   ]
  },
  {
   "cell_type": "code",
   "execution_count": 7,
   "metadata": {},
   "outputs": [],
   "source": [
    "import pandas as pd\n",
    "from sklearn import tree\n",
    "from sklearn.tree import DecisionTreeClassifier\n",
    "from sklearn.metrics import classification_report, f1_score\n",
    "from sklearn.model_selection import GridSearchCV\n",
    "\n",
    "class decision_tree:\n",
    "    def __init__(self, y_train, x_train, cols, name, y=y_test, x=X_test):\n",
    "        self.name = name\n",
    "        self.y_train = y_train\n",
    "        self.x_train = x_train\n",
    "        self.y = y_test\n",
    "        self.x = X_test\n",
    "        self.cols = cols\n",
    "        self.model = DecisionTreeClassifier().fit(self.x_train[self.cols], self.y_train)\n",
    "\n",
    "    def summary(self):\n",
    "        tree.plot_tree(self.model, feature_names=self.cols)\n",
    "\n",
    "    def predict(self, confusion=False):\n",
    "        yhat = self.model.predict(self.x[self.cols]) \n",
    "        prediction = list(map(round, yhat))\n",
    "        self.cm = classification_report(self.y, prediction)\n",
    "        f1 = f1_score(self.y, prediction)\n",
    "        self.f1 = f1\n",
    "        print(f\"{self.name}: F1 = {f1}\")    \n",
    "        if confusion:\n",
    "            print (\"Confusion Matrix : \\n\", self.cm)\n",
    "\n",
    "    def feature_selection(self):\n",
    "        # Remove columns with no statistical differences\n",
    "        try:\n",
    "            self.cols.remove('Age')\n",
    "            self.cols.remove('TransactionDate')\n",
    "            self.cols.remove('NumComplaints')\n",
    "        except:\n",
    "            pass\n",
    "        self.model = DecisionTreeClassifier().fit(self.x_train[self.cols], self.y_train)\n",
    "        self.predict()\n",
    "        f1 = self.f1\n",
    "\n",
    "        for i in self.cols:\n",
    "            self.cols.remove(i)\n",
    "            self.model = DecisionTreeClassifier().fit(self.x_train[self.cols], self.y_train)\n",
    "            print(self.cols)\n",
    "            self.predict()\n",
    "            new_f1 = self.f1\n",
    "\n",
    "            if new_f1 < f1:\n",
    "                self.cols.append(i)\n",
    "\n",
    "    def fine_tune(self, params):\n",
    "        random_search = GridSearchCV(\n",
    "            DecisionTreeClassifier(),\n",
    "            params, \n",
    "            n_jobs=-1, \n",
    "            cv=5, \n",
    "            scoring='f1_weighted')\n",
    "        \n",
    "        random_search.fit(self.x_train[self.cols], self.y_train)\n",
    "        self.best_params_random = random_search.best_params_\n",
    "        self.best_score_random = random_search.best_score_\n",
    "        self.model = random_search.best_estimator_\n",
    "        self.predict()"
   ]
  },
  {
   "cell_type": "code",
   "execution_count": 8,
   "metadata": {},
   "outputs": [
    {
     "name": "stdout",
     "output_type": "stream",
     "text": [
      "ori_baseDT_num: F1 = 0.5442552812193601\n"
     ]
    }
   ],
   "source": [
    "# Normalisation not required for decision trees\n",
    "ori_baseDT_num = decision_tree(y_train, X_train, l_cols_num+l_cols_cat, 'ori_baseDT_num')\n",
    "ori_baseDT_num.predict()"
   ]
  },
  {
   "cell_type": "markdown",
   "metadata": {},
   "source": [
    "### 2.3. Naive Bayes"
   ]
  },
  {
   "cell_type": "code",
   "execution_count": 10,
   "metadata": {},
   "outputs": [],
   "source": [
    "import pandas as pd\n",
    "from sklearn.naive_bayes import GaussianNB\n",
    "from sklearn.metrics import classification_report, f1_score\n",
    "\n",
    "class naive_bayes:\n",
    "    def __init__(self, y_train, x_train, cols, name, y=y_test, x=X_test):\n",
    "        self.name = name\n",
    "        self.y_train = y_train.values.ravel()\n",
    "        self.x_train = x_train\n",
    "        self.y = y_test.values.ravel()\n",
    "        self.x = X_test\n",
    "        self.cols = cols\n",
    "        self.model = GaussianNB().fit(self.x_train[self.cols].values, self.y_train)\n",
    "\n",
    "    def predict(self, confusion=False):\n",
    "        yhat = self.model.predict(self.x[self.cols].values) \n",
    "        prediction = list(map(round, yhat))\n",
    "        self.cm = classification_report(self.y, prediction)\n",
    "        f1 = f1_score(self.y, prediction)\n",
    "        self.f1 = f1\n",
    "        print(f\"{self.name}: F1 = {f1}\")    \n",
    "        if confusion:\n",
    "            print (\"Confusion Matrix : \\n\", self.cm)\n",
    "\n",
    "    def feature_selection(self):\n",
    "        # Remove columns with no statistical differences\n",
    "        try:\n",
    "            self.cols.remove('Age')\n",
    "            self.cols.remove('TransactionDate')\n",
    "            self.cols.remove('NumComplaints')\n",
    "        except:\n",
    "            pass\n",
    "        self.model = GaussianNB().fit(self.x_train[self.cols].values, self.y_train)\n",
    "        self.predict()\n",
    "        f1 = self.f1\n",
    "\n",
    "        for i in self.cols:\n",
    "            self.cols.remove(i)\n",
    "            self.model = GaussianNB().fit(self.x_train[self.cols].values, self.y_train)\n",
    "            print(self.cols)\n",
    "            self.predict()\n",
    "            new_f1 = self.f1\n",
    "\n",
    "            if new_f1 < f1:\n",
    "                self.cols.append(i)"
   ]
  },
  {
   "cell_type": "code",
   "execution_count": 11,
   "metadata": {},
   "outputs": [
    {
     "name": "stdout",
     "output_type": "stream",
     "text": [
      "ori_baseNB_num: F1 = 0.6533789563729684\n",
      "ori_baseNB_norm: F1 = 0.6538527250982402\n"
     ]
    }
   ],
   "source": [
    "ori_baseNB_num = naive_bayes(y_train, X_train, l_cols_num+l_cols_cat, 'ori_baseNB_num')\n",
    "ori_baseNB_num.predict()\n",
    "ori_baseNB_norm = naive_bayes(y_train, X_train, l_cols_norm+l_cols_cat, 'ori_baseNB_norm')\n",
    "ori_baseNB_norm.predict()"
   ]
  },
  {
   "cell_type": "markdown",
   "metadata": {},
   "source": [
    "### 2.4. Random Forest"
   ]
  },
  {
   "cell_type": "code",
   "execution_count": 12,
   "metadata": {},
   "outputs": [],
   "source": [
    "import pandas as pd\n",
    "from sklearn.ensemble import RandomForestClassifier\n",
    "from sklearn.metrics import classification_report, f1_score\n",
    "\n",
    "class random_forest:\n",
    "    def __init__(self, y_train, x_train, cols, name, y=y_test, x=X_test):\n",
    "        self.name = name\n",
    "        self.y_train = y_train\n",
    "        self.x_train = x_train[cols]\n",
    "        self.y = y_test\n",
    "        self.x = X_test[cols]\n",
    "        self.cols = cols\n",
    "        self.model = RandomForestClassifier(n_estimators = 10).fit(self.x_train[cols], self.y_train)\n",
    "\n",
    "    def summary(self):\n",
    "        tree.plot_tree(self.model, feature_names=self.cols)\n",
    "\n",
    "    def predict(self, confusion=False):\n",
    "        yhat = self.model.predict(self.x[self.cols]) \n",
    "        prediction = list(map(round, yhat))\n",
    "        self.cm = classification_report(self.y, prediction)\n",
    "        f1 = f1_score(self.y, prediction)\n",
    "        self.f1 = f1\n",
    "        print(f\"{self.name}: F1 = {f1}\")    \n",
    "        if confusion:\n",
    "            print (\"Confusion Matrix : \\n\", self.cm)"
   ]
  },
  {
   "cell_type": "code",
   "execution_count": 13,
   "metadata": {},
   "outputs": [
    {
     "name": "stderr",
     "output_type": "stream",
     "text": [
      "/usr/local/lib/python3.12/site-packages/sklearn/base.py:1473: DataConversionWarning: A column-vector y was passed when a 1d array was expected. Please change the shape of y to (n_samples,), for example using ravel().\n",
      "  return fit_method(estimator, *args, **kwargs)\n"
     ]
    },
    {
     "name": "stdout",
     "output_type": "stream",
     "text": [
      "ori_baseRF_num: F1 = 0.5632995990070652\n"
     ]
    }
   ],
   "source": [
    "# Normalisation and Balancing not required for decision trees\n",
    "ori_baseRF_num = random_forest(y_train, X_train, l_cols_num+l_cols_cat, 'ori_baseRF_num')\n",
    "ori_baseRF_num.predict()"
   ]
  },
  {
   "cell_type": "markdown",
   "metadata": {},
   "source": [
    "## 3. Fine-Tuning"
   ]
  },
  {
   "cell_type": "code",
   "execution_count": 14,
   "metadata": {},
   "outputs": [
    {
     "name": "stdout",
     "output_type": "stream",
     "text": [
      "Optimization terminated successfully.\n",
      "         Current function value: 0.643021\n",
      "         Iterations 5\n",
      "smenn_FT_Logit_num: F1 = 0.6291994281629736\n",
      "Optimization terminated successfully.\n",
      "         Current function value: 0.645487\n",
      "         Iterations 5\n",
      "smenn_FT_Logit_num: F1 = 0.6252819633673193\n",
      "Optimization terminated successfully.\n",
      "         Current function value: 0.648894\n",
      "         Iterations 5\n",
      "['Tenure', 'NumSupportCalls', 'NumComplaints', 'Purchase', 'Refund', 'Subscription Renewal', 'Support Fee', 'Upgrade', 'txn_mean', 'txn_count', 'Gender_Male', 'Location_Rural', 'Location_Suburban']\n",
      "smenn_FT_Logit_num: F1 = 0.613018401538039\n",
      "Optimization terminated successfully.\n",
      "         Current function value: 0.646471\n",
      "         Iterations 5\n",
      "['Tenure', 'NumComplaints', 'Purchase', 'Refund', 'Subscription Renewal', 'Support Fee', 'Upgrade', 'txn_mean', 'txn_count', 'Gender_Male', 'Location_Rural', 'Location_Suburban', 'Income']\n",
      "smenn_FT_Logit_num: F1 = 0.6246960281005134\n",
      "Optimization terminated successfully.\n",
      "         Current function value: 0.645520\n",
      "         Iterations 5\n",
      "['Tenure', 'NumComplaints', 'Refund', 'Subscription Renewal', 'Support Fee', 'Upgrade', 'txn_mean', 'txn_count', 'Gender_Male', 'Location_Rural', 'Location_Suburban', 'Income', 'NumSupportCalls']\n",
      "smenn_FT_Logit_num: F1 = 0.625101506812235\n",
      "Optimization terminated successfully.\n",
      "         Current function value: 0.645519\n",
      "         Iterations 5\n",
      "['Tenure', 'NumComplaints', 'Refund', 'Support Fee', 'Upgrade', 'txn_mean', 'txn_count', 'Gender_Male', 'Location_Rural', 'Location_Suburban', 'Income', 'NumSupportCalls', 'Purchase']\n",
      "smenn_FT_Logit_num: F1 = 0.6261825389674746\n",
      "Optimization terminated successfully.\n",
      "         Current function value: 0.645568\n",
      "         Iterations 5\n",
      "['Tenure', 'NumComplaints', 'Refund', 'Support Fee', 'txn_mean', 'txn_count', 'Gender_Male', 'Location_Rural', 'Location_Suburban', 'Income', 'NumSupportCalls', 'Purchase']\n",
      "smenn_FT_Logit_num: F1 = 0.626475624042534\n",
      "Optimization terminated successfully.\n",
      "         Current function value: 0.645840\n",
      "         Iterations 5\n",
      "['Tenure', 'NumComplaints', 'Refund', 'Support Fee', 'txn_mean', 'Gender_Male', 'Location_Rural', 'Location_Suburban', 'Income', 'NumSupportCalls', 'Purchase']\n",
      "smenn_FT_Logit_num: F1 = 0.6252935862691961\n",
      "Optimization terminated successfully.\n",
      "         Current function value: 0.646049\n",
      "         Iterations 5\n",
      "['Tenure', 'NumComplaints', 'Refund', 'Support Fee', 'txn_mean', 'Gender_Male', 'Location_Suburban', 'Income', 'NumSupportCalls', 'Purchase']\n",
      "smenn_FT_Logit_num: F1 = 0.6242210782985641\n",
      "Optimization terminated successfully.\n",
      "         Current function value: 0.649805\n",
      "         Iterations 5\n",
      "['Tenure', 'NumComplaints', 'Refund', 'Support Fee', 'txn_mean', 'Gender_Male', 'Location_Suburban', 'NumSupportCalls', 'Purchase', 'Location_Rural']\n",
      "smenn_FT_Logit_num: F1 = 0.6084709790532435\n",
      "Optimization terminated successfully.\n",
      "         Current function value: 0.646022\n",
      "         Iterations 5\n",
      "['Tenure', 'NumComplaints', 'Refund', 'Support Fee', 'txn_mean', 'Gender_Male', 'Location_Suburban', 'NumSupportCalls', 'Location_Rural', 'Income']\n",
      "smenn_FT_Logit_num: F1 = 0.6251127548259066\n",
      "Optimization terminated successfully.\n",
      "         Current function value: 0.649805\n",
      "         Iterations 5\n",
      "['Tenure', 'NumComplaints', 'Refund', 'Support Fee', 'txn_mean', 'Gender_Male', 'Location_Suburban', 'NumSupportCalls', 'Location_Rural', 'Purchase']\n",
      "smenn_FT_Logit_num: F1 = 0.6084709790532435\n",
      "Optimization terminated successfully.\n",
      "         Current function value: 0.649805\n",
      "         Iterations 5\n",
      "['Tenure', 'NumComplaints', 'Refund', 'Support Fee', 'txn_mean', 'Gender_Male', 'Location_Suburban', 'NumSupportCalls', 'Location_Rural', 'Purchase']\n",
      "smenn_FT_Logit_num: F1 = 0.6084709790532435\n",
      "Optimization terminated successfully.\n",
      "         Current function value: 0.645840\n",
      "         Iterations 5\n",
      "smenn_FT_Logit_num: F1 = 0.6252935862691961\n",
      "Optimization terminated successfully.\n",
      "         Current function value: 0.693007\n",
      "         Iterations 3\n",
      "['NumComplaints', 'Refund', 'Support Fee', 'txn_mean', 'Gender_Male', 'Location_Suburban', 'NumSupportCalls', 'Location_Rural', 'Purchase', 'Income']\n",
      "smenn_FT_Logit_num: F1 = 0.49082357281195244\n",
      "Optimization terminated successfully.\n",
      "         Current function value: 0.645892\n",
      "         Iterations 5\n",
      "['NumComplaints', 'Support Fee', 'txn_mean', 'Gender_Male', 'Location_Suburban', 'NumSupportCalls', 'Location_Rural', 'Purchase', 'Income', 'Tenure']\n",
      "smenn_FT_Logit_num: F1 = 0.6252143308365671\n",
      "Optimization terminated successfully.\n",
      "         Current function value: 0.646762\n",
      "         Iterations 5\n",
      "['NumComplaints', 'Support Fee', 'Gender_Male', 'Location_Suburban', 'NumSupportCalls', 'Location_Rural', 'Purchase', 'Income', 'Tenure', 'Refund']\n",
      "smenn_FT_Logit_num: F1 = 0.6211281678626578\n",
      "Optimization terminated successfully.\n",
      "         Current function value: 0.646332\n",
      "         Iterations 5\n",
      "['NumComplaints', 'Support Fee', 'Gender_Male', 'NumSupportCalls', 'Location_Rural', 'Purchase', 'Income', 'Tenure', 'Refund', 'txn_mean']\n",
      "smenn_FT_Logit_num: F1 = 0.6232146085698789\n",
      "Optimization terminated successfully.\n",
      "         Current function value: 0.646049\n",
      "         Iterations 5\n",
      "['NumComplaints', 'Support Fee', 'Gender_Male', 'NumSupportCalls', 'Purchase', 'Income', 'Tenure', 'Refund', 'txn_mean', 'Location_Suburban']\n",
      "smenn_FT_Logit_num: F1 = 0.6242210782985641\n",
      "Optimization terminated successfully.\n",
      "         Current function value: 0.649805\n",
      "         Iterations 5\n",
      "['NumComplaints', 'Support Fee', 'Gender_Male', 'NumSupportCalls', 'Purchase', 'Tenure', 'Refund', 'txn_mean', 'Location_Suburban', 'Location_Rural']\n",
      "smenn_FT_Logit_num: F1 = 0.6084709790532435\n",
      "Optimization terminated successfully.\n",
      "         Current function value: 0.645892\n",
      "         Iterations 5\n",
      "['NumComplaints', 'Support Fee', 'Gender_Male', 'NumSupportCalls', 'Purchase', 'Tenure', 'txn_mean', 'Location_Suburban', 'Location_Rural', 'Income']\n",
      "smenn_FT_Logit_num: F1 = 0.6252143308365671\n",
      "Optimization terminated successfully.\n",
      "         Current function value: 0.646332\n",
      "         Iterations 5\n",
      "['NumComplaints', 'Support Fee', 'Gender_Male', 'NumSupportCalls', 'Purchase', 'Tenure', 'txn_mean', 'Location_Rural', 'Income', 'Refund']\n",
      "smenn_FT_Logit_num: F1 = 0.6232146085698789\n",
      "Optimization terminated successfully.\n",
      "         Current function value: 0.649805\n",
      "         Iterations 5\n",
      "['NumComplaints', 'Support Fee', 'Gender_Male', 'NumSupportCalls', 'Purchase', 'Tenure', 'txn_mean', 'Location_Rural', 'Refund', 'Location_Suburban']\n",
      "smenn_FT_Logit_num: F1 = 0.6084709790532435\n",
      "Optimization terminated successfully.\n",
      "         Current function value: 0.646332\n",
      "         Iterations 5\n",
      "['NumComplaints', 'Support Fee', 'Gender_Male', 'NumSupportCalls', 'Purchase', 'Tenure', 'txn_mean', 'Location_Rural', 'Refund', 'Income']\n",
      "smenn_FT_Logit_num: F1 = 0.6232146085698789\n",
      "Optimization terminated successfully.\n",
      "         Current function value: 0.646332\n",
      "         Iterations 5\n",
      "['NumComplaints', 'Support Fee', 'Gender_Male', 'NumSupportCalls', 'Purchase', 'Tenure', 'txn_mean', 'Location_Rural', 'Refund', 'Income']\n",
      "smenn_FT_Logit_num: F1 = 0.6232146085698789\n"
     ]
    }
   ],
   "source": [
    "# Feature selection - LR\n",
    "smenn_FT_Logit_num = logistic_regression(y_train, X_train, l_cols_num+l_cols_cat, 'smenn_FT_Logit_num')\n",
    "smenn_FT_Logit_num.predict()\n",
    "smenn_FT_Logit_num.feature_selection()\n",
    "smenn_FT_Logit_num.feature_selection()"
   ]
  },
  {
   "cell_type": "code",
   "execution_count": 15,
   "metadata": {},
   "outputs": [
    {
     "name": "stdout",
     "output_type": "stream",
     "text": [
      "sm_baseDT_num: F1 = 0.5437100213219617\n",
      "sm_baseDT_num: F1 = 0.5463797875189715\n",
      "['Tenure', 'NumSupportCalls', 'NumComplaints', 'Purchase', 'Refund', 'Subscription Renewal', 'Support Fee', 'Upgrade', 'txn_mean', 'txn_count', 'Gender_Male', 'Location_Rural', 'Location_Suburban']\n",
      "sm_baseDT_num: F1 = 0.5415989893521025\n",
      "['Tenure', 'NumComplaints', 'Purchase', 'Refund', 'Subscription Renewal', 'Support Fee', 'Upgrade', 'txn_mean', 'txn_count', 'Gender_Male', 'Location_Rural', 'Location_Suburban', 'Income']\n",
      "sm_baseDT_num: F1 = 0.5495049504950495\n",
      "['Tenure', 'NumComplaints', 'Refund', 'Subscription Renewal', 'Support Fee', 'Upgrade', 'txn_mean', 'txn_count', 'Gender_Male', 'Location_Rural', 'Location_Suburban', 'Income']\n",
      "sm_baseDT_num: F1 = 0.5445885154802858\n",
      "['Tenure', 'NumComplaints', 'Refund', 'Support Fee', 'Upgrade', 'txn_mean', 'txn_count', 'Gender_Male', 'Location_Rural', 'Location_Suburban', 'Income', 'Purchase']\n",
      "sm_baseDT_num: F1 = 0.5527090957779166\n",
      "['Tenure', 'NumComplaints', 'Refund', 'Support Fee', 'txn_mean', 'txn_count', 'Gender_Male', 'Location_Rural', 'Location_Suburban', 'Income', 'Purchase']\n",
      "sm_baseDT_num: F1 = 0.5465540240106714\n",
      "['Tenure', 'NumComplaints', 'Refund', 'Support Fee', 'txn_mean', 'Gender_Male', 'Location_Rural', 'Location_Suburban', 'Income', 'Purchase']\n",
      "sm_baseDT_num: F1 = 0.549585672280139\n",
      "['Tenure', 'NumComplaints', 'Refund', 'Support Fee', 'txn_mean', 'Gender_Male', 'Location_Suburban', 'Income', 'Purchase']\n",
      "sm_baseDT_num: F1 = 0.5502183406113537\n",
      "['Tenure', 'NumComplaints', 'Refund', 'Support Fee', 'txn_mean', 'Gender_Male', 'Location_Suburban', 'Purchase']\n",
      "sm_baseDT_num: F1 = 0.5501371802814409\n",
      "sm_baseDT_num: F1 = 0.5515473032714412\n",
      "['NumComplaints', 'Refund', 'Support Fee', 'txn_mean', 'Gender_Male', 'Location_Suburban', 'Purchase']\n",
      "sm_baseDT_num: F1 = 0.49955381045868286\n",
      "['NumComplaints', 'Support Fee', 'txn_mean', 'Gender_Male', 'Location_Suburban', 'Purchase', 'Tenure']\n",
      "sm_baseDT_num: F1 = 0.5548958794860435\n",
      "['NumComplaints', 'Support Fee', 'Gender_Male', 'Location_Suburban', 'Purchase', 'Tenure']\n",
      "sm_baseDT_num: F1 = 0.5619570998049991\n",
      "['NumComplaints', 'Support Fee', 'Gender_Male', 'Purchase', 'Tenure']\n",
      "sm_baseDT_num: F1 = 0.5663623595505618\n",
      "['NumComplaints', 'Support Fee', 'Gender_Male', 'Purchase']\n",
      "sm_baseDT_num: F1 = 0.48923818880057157\n"
     ]
    }
   ],
   "source": [
    "# Feature selection - DT\n",
    "ori_FS_DT_num = decision_tree(y_train, X_train, l_cols_num+l_cols_cat, 'sm_baseDT_num')\n",
    "ori_FS_DT_num.predict()\n",
    "ori_FS_DT_num.feature_selection()\n",
    "ori_FS_DT_num.feature_selection()"
   ]
  },
  {
   "cell_type": "code",
   "execution_count": 16,
   "metadata": {},
   "outputs": [
    {
     "name": "stdout",
     "output_type": "stream",
     "text": [
      "sm_FT_NB_num: F1 = 0.6533789563729684\n",
      "sm_FT_NB_num: F1 = 0.6531519972628518\n",
      "['Tenure', 'NumSupportCalls', 'NumComplaints', 'Purchase', 'Refund', 'Subscription Renewal', 'Support Fee', 'Upgrade', 'txn_mean', 'txn_count', 'Gender_Male', 'Location_Rural', 'Location_Suburban']\n",
      "sm_FT_NB_num: F1 = 0.6539481563863462\n",
      "['Tenure', 'NumComplaints', 'Purchase', 'Refund', 'Subscription Renewal', 'Support Fee', 'Upgrade', 'txn_mean', 'txn_count', 'Gender_Male', 'Location_Rural', 'Location_Suburban']\n",
      "sm_FT_NB_num: F1 = 0.654007356085878\n",
      "['Tenure', 'NumComplaints', 'Refund', 'Subscription Renewal', 'Support Fee', 'Upgrade', 'txn_mean', 'txn_count', 'Gender_Male', 'Location_Rural', 'Location_Suburban']\n",
      "sm_FT_NB_num: F1 = 0.6533230690274571\n",
      "['Tenure', 'NumComplaints', 'Refund', 'Support Fee', 'Upgrade', 'txn_mean', 'txn_count', 'Gender_Male', 'Location_Rural', 'Location_Suburban']\n",
      "sm_FT_NB_num: F1 = 0.6534382483749572\n",
      "['Tenure', 'NumComplaints', 'Refund', 'Support Fee', 'txn_mean', 'txn_count', 'Gender_Male', 'Location_Rural', 'Location_Suburban']\n",
      "sm_FT_NB_num: F1 = 0.6522147307331229\n",
      "['Tenure', 'NumComplaints', 'Refund', 'Support Fee', 'txn_mean', 'Gender_Male', 'Location_Rural', 'Location_Suburban', 'Upgrade']\n",
      "sm_FT_NB_num: F1 = 0.6535008976660682\n",
      "['Tenure', 'NumComplaints', 'Refund', 'Support Fee', 'txn_mean', 'Gender_Male', 'Location_Suburban', 'Upgrade']\n",
      "sm_FT_NB_num: F1 = 0.652378911273039\n",
      "['Tenure', 'NumComplaints', 'Refund', 'Support Fee', 'txn_mean', 'Gender_Male', 'Location_Suburban', 'Location_Rural']\n",
      "sm_FT_NB_num: F1 = 0.6528523919160911\n",
      "['Tenure', 'NumComplaints', 'Refund', 'Support Fee', 'txn_mean', 'Gender_Male', 'Location_Suburban', 'Location_Rural']\n",
      "sm_FT_NB_num: F1 = 0.6528523919160911\n",
      "sm_FT_NB_num: F1 = 0.6535008976660682\n",
      "['NumComplaints', 'Refund', 'Support Fee', 'txn_mean', 'Gender_Male', 'Location_Suburban', 'Location_Rural', 'Upgrade']\n",
      "sm_FT_NB_num: F1 = 0.46268073466197734\n",
      "['NumComplaints', 'Support Fee', 'txn_mean', 'Gender_Male', 'Location_Suburban', 'Location_Rural', 'Upgrade', 'Tenure']\n",
      "sm_FT_NB_num: F1 = 0.6536093055080396\n",
      "['NumComplaints', 'Support Fee', 'Gender_Male', 'Location_Suburban', 'Location_Rural', 'Upgrade', 'Tenure']\n",
      "sm_FT_NB_num: F1 = 0.6525648711141561\n",
      "['NumComplaints', 'Support Fee', 'Gender_Male', 'Location_Rural', 'Upgrade', 'Tenure', 'txn_mean']\n",
      "sm_FT_NB_num: F1 = 0.650473729543497\n",
      "['NumComplaints', 'Support Fee', 'Gender_Male', 'Location_Rural', 'Tenure', 'txn_mean', 'Location_Suburban']\n",
      "sm_FT_NB_num: F1 = 0.653134328358209\n",
      "['NumComplaints', 'Support Fee', 'Gender_Male', 'Location_Rural', 'Tenure', 'Location_Suburban', 'Upgrade']\n",
      "sm_FT_NB_num: F1 = 0.6525648711141561\n",
      "['NumComplaints', 'Support Fee', 'Gender_Male', 'Location_Rural', 'Tenure', 'Location_Suburban', 'txn_mean']\n",
      "sm_FT_NB_num: F1 = 0.653134328358209\n",
      "['NumComplaints', 'Support Fee', 'Gender_Male', 'Location_Rural', 'Tenure', 'Location_Suburban', 'txn_mean']\n",
      "sm_FT_NB_num: F1 = 0.653134328358209\n"
     ]
    }
   ],
   "source": [
    "# Feature selection - NB\n",
    "sm_FT_NB_num = naive_bayes(y_train, X_train, l_cols_num+l_cols_cat, 'sm_FT_NB_num')\n",
    "sm_FT_NB_num.predict()\n",
    "sm_FT_NB_num.feature_selection()\n",
    "sm_FT_NB_num.feature_selection()"
   ]
  },
  {
   "cell_type": "markdown",
   "metadata": {},
   "source": [
    "### Best Models"
   ]
  },
  {
   "cell_type": "code",
   "execution_count": 18,
   "metadata": {},
   "outputs": [
    {
     "name": "stdout",
     "output_type": "stream",
     "text": [
      "Optimization terminated successfully.\n",
      "         Current function value: 0.656889\n",
      "         Iterations 5\n",
      "LR_model: F1 = 0.5846300715990453\n",
      "Confusion Matrix : \n",
      "               precision    recall  f1-score   support\n",
      "\n",
      "           0       0.60      0.68      0.64      5616\n",
      "           1       0.63      0.55      0.58      5616\n",
      "\n",
      "    accuracy                           0.61     11232\n",
      "   macro avg       0.61      0.61      0.61     11232\n",
      "weighted avg       0.61      0.61      0.61     11232\n",
      "\n"
     ]
    }
   ],
   "source": [
    "# Logistic Regression\n",
    "LR_model = logistic_regression(y_train, X_train, ['NumComplaints', 'Gender_Male', 'NumSupportCalls', 'Tenure'], 'LR_model')\n",
    "LR_model.predict(confusion=True)"
   ]
  },
  {
   "cell_type": "code",
   "execution_count": 19,
   "metadata": {},
   "outputs": [
    {
     "name": "stdout",
     "output_type": "stream",
     "text": [
      "                           Logit Regression Results                           \n",
      "==============================================================================\n",
      "Dep. Variable:                Churned   No. Observations:                44924\n",
      "Model:                          Logit   Df Residuals:                    44920\n",
      "Method:                           MLE   Df Model:                            3\n",
      "Date:                Thu, 29 Aug 2024   Pseudo R-squ.:                 0.05231\n",
      "Time:                        05:38:37   Log-Likelihood:                -29510.\n",
      "converged:                       True   LL-Null:                       -31139.\n",
      "Covariance Type:            nonrobust   LLR p-value:                     0.000\n",
      "===================================================================================\n",
      "                      coef    std err          z      P>|z|      [0.025      0.975]\n",
      "-----------------------------------------------------------------------------------\n",
      "NumComplaints       0.1271      0.006     20.460      0.000       0.115       0.139\n",
      "Gender_Male         0.2552      0.019     13.785      0.000       0.219       0.291\n",
      "NumSupportCalls     0.0717      0.003     24.181      0.000       0.066       0.077\n",
      "Tenure             -0.1797      0.003    -54.523      0.000      -0.186      -0.173\n",
      "===================================================================================\n"
     ]
    }
   ],
   "source": [
    "LR_model.summary()"
   ]
  },
  {
   "cell_type": "code",
   "execution_count": 21,
   "metadata": {},
   "outputs": [
    {
     "name": "stdout",
     "output_type": "stream",
     "text": [
      "DT_model: F1 = 0.5812876736262776\n",
      "Confusion Matrix : \n",
      "               precision    recall  f1-score   support\n",
      "\n",
      "           0       0.58      0.55      0.56      5616\n",
      "           1       0.57      0.59      0.58      5616\n",
      "\n",
      "    accuracy                           0.57     11232\n",
      "   macro avg       0.57      0.57      0.57     11232\n",
      "weighted avg       0.57      0.57      0.57     11232\n",
      "\n"
     ]
    }
   ],
   "source": [
    "# Decision Tree\n",
    "DT_model = decision_tree(y_train, X_train, ['NumComplaints', 'Gender_Male', 'Tenure', 'Refund'], 'DT_model')\n",
    "DT_model.predict(confusion=True)"
   ]
  },
  {
   "cell_type": "code",
   "execution_count": 22,
   "metadata": {},
   "outputs": [
    {
     "name": "stdout",
     "output_type": "stream",
     "text": [
      "NB_model: F1 = 0.6390845070422535\n",
      "Confusion Matrix : \n",
      "               precision    recall  f1-score   support\n",
      "\n",
      "           0       0.64      0.62      0.63      5616\n",
      "           1       0.63      0.65      0.64      5616\n",
      "\n",
      "    accuracy                           0.63     11232\n",
      "   macro avg       0.64      0.63      0.63     11232\n",
      "weighted avg       0.64      0.63      0.63     11232\n",
      "\n"
     ]
    }
   ],
   "source": [
    "# Naive Bayes\n",
    "NB_model = naive_bayes(y_train, X_train, ['NumComplaints', 'Gender_Male', 'Tenure'], 'NB_model')\n",
    "NB_model.predict(confusion=True)"
   ]
  },
  {
   "cell_type": "code",
   "execution_count": 51,
   "metadata": {},
   "outputs": [
    {
     "name": "stdout",
     "output_type": "stream",
     "text": [
      "ori_FT_DT_num: F1 = 0.0\n"
     ]
    },
    {
     "name": "stderr",
     "output_type": "stream",
     "text": [
      "/usr/local/lib/python3.12/site-packages/sklearn/metrics/_classification.py:1531: UndefinedMetricWarning: Precision is ill-defined and being set to 0.0 in labels with no predicted samples. Use `zero_division` parameter to control this behavior.\n",
      "  _warn_prf(average, modifier, f\"{metric.capitalize()} is\", len(result))\n",
      "/usr/local/lib/python3.12/site-packages/sklearn/metrics/_classification.py:1531: UndefinedMetricWarning: Precision is ill-defined and being set to 0.0 in labels with no predicted samples. Use `zero_division` parameter to control this behavior.\n",
      "  _warn_prf(average, modifier, f\"{metric.capitalize()} is\", len(result))\n",
      "/usr/local/lib/python3.12/site-packages/sklearn/metrics/_classification.py:1531: UndefinedMetricWarning: Precision is ill-defined and being set to 0.0 in labels with no predicted samples. Use `zero_division` parameter to control this behavior.\n",
      "  _warn_prf(average, modifier, f\"{metric.capitalize()} is\", len(result))\n"
     ]
    }
   ],
   "source": [
    "# Define the parameter distribution to sample from\n",
    "param_dist = {'criterion':['gini','entropy'],\n",
    "              'max_depth':np.arange(1,10).tolist()[0::2],\n",
    "              'min_samples_split':np.arange(100,200).tolist()[0::2],\n",
    "              'max_leaf_nodes':np.arange(3,10).tolist()[0::2]}\n",
    "\n",
    "ori_FT_DT_num = decision_tree(y_train, X_train, ['NumSupportCalls', 'TransactionType_Refund', 'Income', 'Tenure', 'Location_Rural'], 'ori_FT_DT_num')\n",
    "ori_FT_DT_num.fine_tune(param_dist)"
   ]
  },
  {
   "cell_type": "code",
   "execution_count": 51,
   "metadata": {},
   "outputs": [
    {
     "name": "stdout",
     "output_type": "stream",
     "text": [
      "{'criterion': 'entropy', 'max_depth': 15, 'max_leaf_nodes': 17, 'min_samples_split': np.float64(0.018242481428361046)}\n",
      "\n",
      "\n",
      "0.6036802569001319\n"
     ]
    }
   ],
   "source": [
    "print(ori_FT_DT_num.best_params_random)\n",
    "print('\\n')\n",
    "print(ori_FT_DT_num.best_score_random)"
   ]
  }
 ],
 "metadata": {
  "kernelspec": {
   "display_name": "Python 3",
   "language": "python",
   "name": "python3"
  },
  "language_info": {
   "codemirror_mode": {
    "name": "ipython",
    "version": 3
   },
   "file_extension": ".py",
   "mimetype": "text/x-python",
   "name": "python",
   "nbconvert_exporter": "python",
   "pygments_lexer": "ipython3",
   "version": "3.12.5"
  }
 },
 "nbformat": 4,
 "nbformat_minor": 2
}
